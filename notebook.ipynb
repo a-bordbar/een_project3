{
  "cells": [
    {
      "cell_type": "markdown",
      "metadata": {
        "id": "view-in-github",
        "colab_type": "text"
      },
      "source": [
        "<a href=\"https://colab.research.google.com/github/a-bordbar/een_project3/blob/master/notebook.ipynb\" target=\"_parent\"><img src=\"https://colab.research.google.com/assets/colab-badge.svg\" alt=\"Open In Colab\"/></a>"
      ]
    },
    {
      "cell_type": "code",
      "execution_count": null,
      "id": "e3509822",
      "metadata": {
        "id": "e3509822"
      },
      "outputs": [],
      "source": [
        "import numpy as np\n",
        "import matplotlib.pyplot as plt\n",
        "import scipy as sp\n",
        "from utils import *\n",
        "from imageio.v2 import imread\n",
        "\n",
        "\n",
        "\n",
        "img = imread(\"./image.jpg\", pilmode='L')  # 'L' ensures grayscale\n",
        "img = img.astype(float)\n",
        "\n",
        "# Normalize to 0–1\n",
        "img = img / 255.0\n",
        "\n",
        "print(\"Image shape:\", img.shape)\n",
        "plt.imshow(img, cmap='gray')\n",
        "plt.title(\"Original Image\")\n",
        "plt.show()\n",
        "\n",
        "U, s, Vt = np.linalg.svd(img, full_matrices=False)\n",
        "s_energy = s**2 / np.sum(s**2)\n",
        "cumulative_energy = np.cumsum(s_energy)\n",
        "\n",
        "import matplotlib.pyplot as plt\n",
        "plt.plot(cumulative_energy, marker='o')\n",
        "plt.xlabel(\"Number of singular values\")\n",
        "plt.ylabel(\"Cumulative energy fraction\")\n",
        "plt.title(\"Low-rank approximation of the image\")\n",
        "plt.grid(True)\n",
        "plt.show()\n",
        "\n",
        "\n",
        "\n",
        "# Apply noise and introduce missing values\n",
        "img_noisy, mask = add_noise_and_missing(img, missing_fraction=0.01, snr_db=20, random_state=42)\n",
        "\n",
        "# Show result\n",
        "plt.figure(figsize=(8,4))\n",
        "plt.imshow(img_noisy, cmap='gray')\n",
        "plt.title(\"Noisy Image with Missing Pixels\")\n",
        "plt.axis('off')\n",
        "plt.show()\n",
        "\n",
        "lambda_values = np.linspace(0,10, 10)\n",
        "\n",
        "# Just describe\n",
        "best_lambda, results = cross_validate_lambda(img_noisy, lambda_values)\n",
        "lambdas = list(results.keys())\n",
        "rmse_values = list(results.values())\n",
        "\n",
        "\n",
        "\n",
        "\n",
        "# Now I use the best lambda to reconstruct the image\n",
        "img_reconstructed = softImpute(img_noisy, reg=best_lambda, num_iterations=100, tolerance=1e-5)\n",
        "\n",
        "\n",
        "\n",
        "\n",
        "\n",
        "plt.figure(figsize=(15,5))\n",
        "\n",
        "plt.subplot(1,3,1)\n",
        "plt.imshow(img, cmap='gray')\n",
        "plt.title(\"Original Image\")\n",
        "plt.axis('off')\n",
        "\n",
        "plt.subplot(1,3,2)\n",
        "plt.imshow(img_noisy, cmap='gray')\n",
        "plt.title(\"Noisy Image with Missing Pixels\")\n",
        "plt.axis('off')\n",
        "\n",
        "plt.subplot(1,3,3)\n",
        "plt.imshow(img_reconstructed, cmap='gray')\n",
        "plt.title(f\"Reconstructed Image (λ={best_lambda:.2f})\")\n",
        "plt.axis('off')\n",
        "\n",
        "plt.show()\n",
        "\n",
        "# --- 6. Plot RMSE vs lambda ---\n",
        "plt.figure(figsize=(6,4))\n",
        "plt.plot(list(results.keys()), list(results.values()), marker='o')\n",
        "plt.axvline(best_lambda, color='r', linestyle='--', label=f\"Best λ = {best_lambda:.2f}\")\n",
        "plt.xlabel(\"Lambda (λ)\")\n",
        "plt.ylabel(\"RMSE on held-out pixels\")\n",
        "plt.title(\"Cross-Validation: RMSE vs Lambda\")\n",
        "plt.grid(True)\n",
        "plt.legend()\n",
        "plt.show()"
      ]
    },
    {
      "cell_type": "markdown",
      "id": "ea1204a3",
      "metadata": {
        "id": "ea1204a3"
      },
      "source": [
        "# Project 3\n"
      ]
    },
    {
      "cell_type": "markdown",
      "id": "87181c1d",
      "metadata": {
        "id": "87181c1d"
      },
      "source": []
    }
  ],
  "metadata": {
    "language_info": {
      "name": "python"
    },
    "colab": {
      "provenance": [],
      "include_colab_link": true
    }
  },
  "nbformat": 4,
  "nbformat_minor": 5
}